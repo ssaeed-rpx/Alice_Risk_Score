{
 "cells": [
  {
   "cell_type": "code",
   "execution_count": null,
   "metadata": {},
   "outputs": [],
   "source": [
    "# Voting Ensemble for Classification\n",
    "import nltk # please download wordnet and stopwords if not already downloaded \n",
    "\n",
    "import pandas as pd\n",
    "import numpy as np\n",
    "\n",
    "from nltk.corpus import wordnet\n",
    "from nltk.corpus import stopwords\n",
    "\n",
    "from nltk.stem.snowball import SnowballStemmer\n",
    "from nltk.stem.wordnet import WordNetLemmatizer\n",
    "from nltk.stem.lancaster import LancasterStemmer\n",
    "\n",
    "\n",
    "from sklearn.model_selection import train_test_split\n",
    "from sklearn.model_selection import cross_val_score\n",
    "\n",
    "from sklearn.feature_extraction.text import CountVectorizer\n",
    "from sklearn.feature_extraction.text import TfidfTransformer\n",
    "from sklearn.decomposition import LatentDirichletAllocation\n",
    "from sklearn.decomposition import NMF\n",
    "\n",
    "from sklearn.naive_bayes import MultinomialNB, BernoulliNB\n",
    "from sklearn.linear_model import SGDClassifier\n",
    "from sklearn.linear_model import LogisticRegression\n",
    "from sklearn.neighbors import KNeighborsClassifier\n",
    "from sklearn.ensemble import ExtraTreesClassifier\n",
    "from sklearn.ensemble import AdaBoostClassifier\n",
    "from sklearn.ensemble import GradientBoostingClassifier\n",
    "from sklearn.ensemble import RandomForestClassifier\n",
    "from sklearn.neural_network import MLPClassifier\n",
    "from xgboost import XGBClassifier\n",
    "from sklearn.ensemble import VotingClassifier\n",
    "from sklearn.svm import LinearSVC\n",
    "from sklearn.svm import SVC\n",
    "from sklearn.decomposition import NMF\n",
    "from sklearn.model_selection import GridSearchCV\n",
    "from sklearn.pipeline import Pipeline\n",
    "from sklearn.metrics import f1_score,precision_score,recall_score"
   ]
  },
  {
   "cell_type": "code",
   "execution_count": 12,
   "metadata": {},
   "outputs": [
    {
     "name": "stdout",
     "output_type": "stream",
     "text": [
      "[nltk_data] Error loading stopwords: <urlopen error [Errno 8] nodename\n",
      "[nltk_data]     nor servname provided, or not known>\n",
      "[nltk_data] Error loading wordnet: <urlopen error [Errno 8] nodename\n",
      "[nltk_data]     nor servname provided, or not known>\n",
      "Training set has 468 samples.\n",
      "Testing set has 117 samples.\n"
     ]
    }
   ],
   "source": [
    "# Import data and perform train-test split\n",
    "\n",
    "a=pd.read_csv('/Users/ssaeed/Documents/final_claims_0205.csv')\n",
    "\n",
    "\n",
    "nltk.download('stopwords')\n",
    "nltk.download('wordnet')\n",
    "\n",
    "claim=a['claim_text']\n",
    "label=a['Ineligibility']\n",
    "\n",
    "ineleg=a[a['Ineligibility']==1]\n",
    "eleg=a[a['Ineligibility']==0]\n",
    "\n",
    "# Import train_test_split\n",
    "from sklearn.cross_validation import train_test_split\n",
    "\n",
    "# Split the 'features' and 'income' data into training and testing sets\n",
    "claim_tr, claim_tst, label_tr, label_tst = train_test_split(claim, label, test_size = 0.2, random_state = 0)\n",
    "\n",
    "# Show the results of the split\n",
    "print (\"Training set has {} samples.\".format(claim_tr.shape[0]))\n",
    "print (\"Testing set has {} samples.\".format(claim_tst.shape[0]))"
   ]
  },
  {
   "cell_type": "markdown",
   "metadata": {},
   "source": [
    "## Upsampling"
   ]
  },
  {
   "cell_type": "code",
   "execution_count": 109,
   "metadata": {},
   "outputs": [],
   "source": [
    "from sklearn.utils import resample\n",
    "\n",
    "eleg = resample(eleg,replace=True,n_samples=100*len(ineleg),random_state=12)\n",
    "\n",
    "full=pd.concat([eleg,ineleg])"
   ]
  },
  {
   "cell_type": "code",
   "execution_count": 37,
   "metadata": {},
   "outputs": [
    {
     "name": "stdout",
     "output_type": "stream",
     "text": [
      "Training set has 35552 samples.\n",
      "Testing set has 8888 samples.\n"
     ]
    }
   ],
   "source": [
    "claim=full['claim_text']\n",
    "label=full['Ineligibility']\n",
    "\n",
    "# Import train_test_split\n",
    "from sklearn.cross_validation import train_test_split\n",
    "\n",
    "# Split the 'features' and 'income' data into training and testing sets\n",
    "claim_tr, claim_tst, label_tr, label_tst = train_test_split(claim, label, test_size = 0.2, random_state = 0)\n",
    "\n",
    "# Show the results of the split\n",
    "print (\"Training set has {} samples.\".format(claim_tr.shape[0]))\n",
    "print (\"Testing set has {} samples.\".format(claim_tst.shape[0]))"
   ]
  },
  {
   "cell_type": "code",
   "execution_count": 38,
   "metadata": {},
   "outputs": [],
   "source": [
    "#Stemming and Lemmatization\n",
    "\n",
    "stemmer = SnowballStemmer(\"english\", ignore_stopwords=True)\n",
    "lemmer=LancasterStemmer()\n",
    "lemma=WordNetLemmatizer()\n",
    "\n",
    "\n",
    "class LemmaCountVectorizer(CountVectorizer):\n",
    "    def build_analyzer(self):\n",
    "        analyzer = super(LemmaCountVectorizer, self).build_analyzer()\n",
    "        return lambda doc: ([lemma.lemmatize(w) for w in analyzer(doc)]) \n",
    "\n",
    "class StemmedCountVectorizer(CountVectorizer):\n",
    "    def build_analyzer(self):\n",
    "        analyzer = super(StemmedCountVectorizer, self).build_analyzer()\n",
    "        return lambda doc: ([stemmer.stem(w) for w in analyzer(doc)])\n",
    "\n",
    "SCV = StemmedCountVectorizer(ngram_range=(1,2),stop_words='english',max_df=0.2,min_df=2)\n",
    "\n",
    "LCV=LemmaCountVectorizer(stop_words='english',ngram_range=(1,2),max_features=2000,max_df=0.3,min_df=3)"
   ]
  },
  {
   "cell_type": "code",
   "execution_count": 180,
   "metadata": {
    "scrolled": true
   },
   "outputs": [
    {
     "name": "stdout",
     "output_type": "stream",
     "text": [
      "0.989\n"
     ]
    }
   ],
   "source": [
    "# create the sub models\n",
    "from sklearn.metrics import roc_auc_score\n",
    "\n",
    "\n",
    "estimators = []\n",
    "model1 = LogisticRegression(C=0.02,penalty='l2',class_weight={0:1,1:100})\n",
    "\n",
    "estimators.append(('logistic', model1))\n",
    "\n",
    "\n",
    "text_ensemble_lemmatized = Pipeline([('vectorizer', LCV), ('tfidf', TfidfTransformer(norm='l2',use_idf=True,smooth_idf=True)), \n",
    "                             ('svm', model1)])\n",
    "\n",
    "# # create the ensemble model\n",
    "from time import time\n",
    "\n",
    "start=time()\n",
    "\n",
    "text_ensemble_lemmatized.fit(claim_tr,label_tr)\n",
    "predicted=text_ensemble_lemmatized.predict(claim_tst)\n",
    "#predicted3=text_ensemble_lemmatized.predict_proba(claim)[:,1]\n",
    "\n",
    "# from sklearn.metrics import f1_score\n",
    "\n",
    "# print(round(f1_score(label_tst,predicted,average='binary'),3))\n",
    "# print(round(precision_score(label_tst,predicted,average='binary'),3))\n",
    "print(round(recall_score(label_tst,predicted,average='binary'),3))\n",
    "# print(time()-start)\n",
    "# print(sum(predicted3<0.1))"
   ]
  },
  {
   "cell_type": "code",
   "execution_count": 178,
   "metadata": {},
   "outputs": [
    {
     "name": "stdout",
     "output_type": "stream",
     "text": [
      "CPU times: user 48.4 ms, sys: 5.94 ms, total: 54.3 ms\n",
      "Wall time: 52.2 ms\n"
     ]
    },
    {
     "data": {
      "image/png": "[encoded data removed]",
      "text/plain": [
       "<Figure size 720x720 with 1 Axes>"
      ]
     },
     "metadata": {},
     "output_type": "display_data"
    }
   ],
   "source": [
    "%%time\n",
    "\n",
    "predicted3=pd.Series(predicted3)\n",
    "\n",
    "\n",
    "from matplotlib import pyplot as plt \n",
    "from pylab import xticks\n",
    "import numpy as np\n",
    "import matplotlib.ticker as ticker\n",
    "\n",
    "fig,ax=plt.subplots()\n",
    "predicted3.hist(ax=ax,bins=50,figsize=(10,10))\n",
    "\n",
    "plt.xticks([0.05,0.1,0.15,0.2,0.25,0.3,0.35,0.4,.45,0.5,0.55,0.6,0.65,.7,0.75,0.8,0.85,0.9,0.95])\n",
    "plt.title('Alice Scoring Distribution', fontsize=16)"
   ]
  },
  {
   "cell_type": "code",
   "execution_count": 179,
   "metadata": {},
   "outputs": [],
   "source": [
    "predicted3=text_ensemble_lemmatized.predict_proba(claim)\n",
    "\n",
    "e=[]\n",
    "\n",
    "for i in range(len(predicted3)):\n",
    "    \n",
    "    e.append(round(predicted3[i][1],3))\n",
    "\n",
    "full['alice_score'] = e\n",
    "full.to_csv('/Users/ssaeed/Documents/0219_alice_scores.csv')"
   ]
  },
  {
   "cell_type": "code",
   "execution_count": null,
   "metadata": {},
   "outputs": [],
   "source": []
  }
 ],
 "metadata": {
  "kernelspec": {
   "display_name": "Python 3",
   "language": "python",
   "name": "python3"
  },
  "language_info": {
   "codemirror_mode": {
    "name": "ipython",
    "version": 3
   },
   "file_extension": ".py",
   "mimetype": "text/x-python",
   "name": "python",
   "nbconvert_exporter": "python",
   "pygments_lexer": "ipython3",
   "version": "3.6.5"
  }
 },
 "nbformat": 4,
 "nbformat_minor": 2
}
