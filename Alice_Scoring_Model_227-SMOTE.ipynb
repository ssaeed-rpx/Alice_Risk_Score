{
 "cells": [
  {
   "cell_type": "markdown",
   "metadata": {},
   "source": [
    "## Hiding Function+ Import Statements + PATH definition"
   ]
  },
  {
   "cell_type": "code",
   "execution_count": 397,
   "metadata": {},
   "outputs": [
    {
     "data": {
      "text/html": [
       "\n",
       "        <script>\n",
       "            function code_toggle_14718465352549263169() {\n",
       "                $('div.cell.code_cell.rendered.selected').find('div.input').toggle();\n",
       "            }\n",
       "\n",
       "            \n",
       "        </script>\n",
       "\n",
       "        <a href=\"javascript:code_toggle_14718465352549263169()\">HIDE FUNCTION-Toggle show/hide</a>\n",
       "    "
      ],
      "text/plain": [
       "<IPython.core.display.HTML object>"
      ]
     },
     "execution_count": 397,
     "metadata": {},
     "output_type": "execute_result"
    }
   ],
   "source": [
    "from IPython.display import HTML\n",
    "import random\n",
    "\n",
    "def hide_function(for_next=False):\n",
    "    this_cell = \"\"\"$('div.cell.code_cell.rendered.selected')\"\"\"\n",
    "    next_cell = this_cell + '.next()'\n",
    "\n",
    "    toggle_text = 'HIDE FUNCTION-Toggle show/hide'  # text shown on toggle link\n",
    "    target_cell = this_cell  # target cell to control with toggle\n",
    "    js_hide_current = ''  # bit of JS to permanently hide code in current cell (only when toggling next cell)\n",
    "\n",
    "    if for_next:\n",
    "        target_cell = next_cell\n",
    "        toggle_text += ' next cell'\n",
    "        js_hide_current = this_cell + '.find(\"div.input\").hide();'\n",
    "\n",
    "    js_f_name = 'code_toggle_{}'.format(str(random.randint(1,2**64)))\n",
    "\n",
    "    html = \"\"\"\n",
    "        <script>\n",
    "            function {f_name}() {{\n",
    "                {cell_selector}.find('div.input').toggle();\n",
    "            }}\n",
    "\n",
    "            {js_hide_current}\n",
    "        </script>\n",
    "\n",
    "        <a href=\"javascript:{f_name}()\">{toggle_text}</a>\n",
    "    \"\"\".format(\n",
    "        f_name=js_f_name,\n",
    "        cell_selector=target_cell,\n",
    "        js_hide_current=js_hide_current, \n",
    "        toggle_text=toggle_text\n",
    "    )\n",
    "\n",
    "    return HTML(html)\n",
    "\n",
    "def import_toggle(for_next=False):\n",
    "    this_cell = \"\"\"$('div.cell.code_cell.rendered.selected')\"\"\"\n",
    "    next_cell = this_cell + '.next()'\n",
    "\n",
    "    toggle_text = 'Imports-Toggle show/hide'  # text shown on toggle link\n",
    "    target_cell = this_cell  # target cell to control with toggle\n",
    "    js_hide_current = ''  # bit of JS to permanently hide code in current cell (only when toggling next cell)\n",
    "\n",
    "    if for_next:\n",
    "        target_cell = next_cell\n",
    "        toggle_text += ' next cell'\n",
    "        js_hide_current = this_cell + '.find(\"div.input\").hide();'\n",
    "\n",
    "    js_f_name = 'code_toggle_{}'.format(str(random.randint(1,2**64)))\n",
    "\n",
    "    html = \"\"\"\n",
    "        <script>\n",
    "            function {f_name}() {{\n",
    "                {cell_selector}.find('div.input').toggle();\n",
    "            }}\n",
    "\n",
    "            {js_hide_current}\n",
    "        </script>\n",
    "\n",
    "        <a href=\"javascript:{f_name}()\">{toggle_text}</a>\n",
    "    \"\"\".format(\n",
    "        f_name=js_f_name,\n",
    "        cell_selector=target_cell,\n",
    "        js_hide_current=js_hide_current, \n",
    "        toggle_text=toggle_text\n",
    "    )\n",
    "\n",
    "    return HTML(html)\n",
    "def hide_toggle(for_next=False):\n",
    "    this_cell = \"\"\"$('div.cell.code_cell.rendered.selected')\"\"\"\n",
    "    next_cell = this_cell + '.next()'\n",
    "\n",
    "    toggle_text = 'Toggle show/hide'  # text shown on toggle link\n",
    "    target_cell = this_cell  # target cell to control with toggle\n",
    "    js_hide_current = ''  # bit of JS to permanently hide code in current cell (only when toggling next cell)\n",
    "\n",
    "    if for_next:\n",
    "        target_cell = next_cell\n",
    "        toggle_text += ' next cell'\n",
    "        js_hide_current = this_cell + '.find(\"div.input\").hide();'\n",
    "\n",
    "    js_f_name = 'code_toggle_{}'.format(str(random.randint(1,2**64)))\n",
    "\n",
    "    html = \"\"\"\n",
    "        <script>\n",
    "            function {f_name}() {{\n",
    "                {cell_selector}.find('div.input').toggle();\n",
    "            }}\n",
    "\n",
    "            {js_hide_current}\n",
    "        </script>\n",
    "\n",
    "        <a href=\"javascript:{f_name}()\">{toggle_text}</a>\n",
    "    \"\"\".format(\n",
    "        f_name=js_f_name,\n",
    "        cell_selector=target_cell,\n",
    "        js_hide_current=js_hide_current, \n",
    "        toggle_text=toggle_text\n",
    "    )\n",
    "\n",
    "    return HTML(html)\n",
    "\n",
    "hide_function()"
   ]
  },
  {
   "cell_type": "code",
   "execution_count": 398,
   "metadata": {},
   "outputs": [
    {
     "data": {
      "text/html": [
       "\n",
       "        <script>\n",
       "            function code_toggle_17458925803464132163() {\n",
       "                $('div.cell.code_cell.rendered.selected').find('div.input').toggle();\n",
       "            }\n",
       "\n",
       "            \n",
       "        </script>\n",
       "\n",
       "        <a href=\"javascript:code_toggle_17458925803464132163()\">Toggle show/hide</a>\n",
       "    "
      ],
      "text/plain": [
       "<IPython.core.display.HTML object>"
      ]
     },
     "execution_count": 398,
     "metadata": {},
     "output_type": "execute_result"
    }
   ],
   "source": [
    "import nltk # please download wordnet and stopwords if not already downloaded \n",
    "\n",
    "import pandas as pd\n",
    "import numpy as np\n",
    "\n",
    "from nltk.corpus import wordnet\n",
    "from nltk.corpus import stopwords\n",
    "\n",
    "from nltk.stem.snowball import SnowballStemmer\n",
    "from nltk.stem.wordnet import WordNetLemmatizer\n",
    "from nltk.stem.lancaster import LancasterStemmer\n",
    "\n",
    "\n",
    "from sklearn.model_selection import train_test_split\n",
    "from sklearn.model_selection import cross_val_score\n",
    "\n",
    "from sklearn.feature_extraction.text import CountVectorizer\n",
    "from sklearn.feature_extraction.text import TfidfTransformer\n",
    "from sklearn.decomposition import LatentDirichletAllocation\n",
    "from sklearn.decomposition import NMF\n",
    "\n",
    "from sklearn.naive_bayes import MultinomialNB, BernoulliNB\n",
    "from sklearn.linear_model import LogisticRegression\n",
    "from sklearn.linear_model import SGDClassifier\n",
    "from sklearn.neighbors import KNeighborsClassifier\n",
    "from sklearn.ensemble import ExtraTreesClassifier\n",
    "from sklearn.ensemble import RandomForestClassifier\n",
    "from sklearn.neural_network import MLPClassifier\n",
    "from sklearn.svm import LinearSVC\n",
    "from sklearn.svm import SVC\n",
    "from sklearn.decomposition import NMF\n",
    "from sklearn.model_selection import GridSearchCV\n",
    "from sklearn.pipeline import Pipeline\n",
    "\n",
    "from matplotlib import pyplot as plt \n",
    "from pylab import xticks\n",
    "import numpy as np\n",
    "import matplotlib.ticker as ticker\n",
    "\n",
    "PATH='/Users/ssaeed/Documents/alice_scoring/'\n",
    "\n",
    "hide_toggle()"
   ]
  },
  {
   "cell_type": "markdown",
   "metadata": {},
   "source": [
    "# Data Preprocessing for Negative-Positive Set-Segregation"
   ]
  },
  {
   "cell_type": "code",
   "execution_count": 399,
   "metadata": {},
   "outputs": [],
   "source": [
    "import pandas as pd\n",
    "\n",
    "pos=pd.read_csv('/Users/ssaeed/Documents/alice_scoring/alice_positive.csv',index_col=0)\n",
    "\n",
    "post_alice_litigated=pd.read_csv('/Users/ssaeed/Documents/alice_scoring/all_post_alice_litigated.csv',index_col=0)\n",
    "\n",
    "df=pd.merge(post_alice_litigated,alice_positive, on=['pat_id'], how=\"outer\", indicator=True)\n",
    "\n",
    "df=df[df['_merge'] =='left_only']\n",
    "\n",
    "neg=pd.DataFrame()\n",
    "neg['pat_id']=df.index\n",
    "neg['Ineligibility']=0\n",
    "\n",
    "#to_csv('/Users/ssaeed/Documents/alice_scoring/alice_negative.csv',index=False)\n",
    "\n",
    "\n",
    "neg.set_index('pat_id',inplace=True)"
   ]
  },
  {
   "cell_type": "code",
   "execution_count": 400,
   "metadata": {},
   "outputs": [],
   "source": [
    "all_alice_patids=pd.concat([pos,neg])\n",
    "\n",
    "all_claims_no_direction=pd.read_csv('/Users/ssaeed/Documents/alice_scoring/all_claims_no_direction.csv',index_col=1)\n",
    "\n",
    "all_claims_with_direction=pd.merge(all_claims_no_direction,all_alice_patids,on=['pat_id'])\n",
    "\n",
    "all_claims_with_direction.drop(['pat_id'],axis=1,inplace=True)\n",
    "\n",
    "all_claims_with_direction.to_csv(PATH+'all_claims_with_direction.csv',index=False)"
   ]
  },
  {
   "cell_type": "markdown",
   "metadata": {},
   "source": [
    "## Regex for Cleaning"
   ]
  },
  {
   "cell_type": "code",
   "execution_count": 401,
   "metadata": {},
   "outputs": [
    {
     "data": {
      "text/html": [
       "\n",
       "        <script>\n",
       "            function code_toggle_13668740214201944929() {\n",
       "                $('div.cell.code_cell.rendered.selected').find('div.input').toggle();\n",
       "            }\n",
       "\n",
       "            \n",
       "        </script>\n",
       "\n",
       "        <a href=\"javascript:code_toggle_13668740214201944929()\">Toggle show/hide</a>\n",
       "    "
      ],
      "text/plain": [
       "<IPython.core.display.HTML object>"
      ]
     },
     "execution_count": 401,
     "metadata": {},
     "output_type": "execute_result"
    }
   ],
   "source": [
    "# #Using regex to clean the incoming corpus \n",
    "\n",
    "df=all_claims_with_direction\n",
    "\n",
    "\n",
    "# df=pd.read_csv('/Users/ssaeed/Documents/all_claims_edited_0204.csv',encoding='latin1')\n",
    "\n",
    "\n",
    "import re\n",
    "\n",
    "def split_it(line):\n",
    "    \n",
    "    line2=re.sub('\\b\\w{1,3}\\b|<.*?>|((\\d+)[\\.])|\\((.+?)\\)|[0-9]+',\"\",str(line))\n",
    "    \n",
    "    return line2\n",
    "\n",
    "df['claim_text']=df['claim_text'].apply(split_it)\n",
    "\n",
    "df.drop_duplicates(subset=None, keep='first', inplace=False)\n",
    "\n",
    "df.describe\n",
    "\n",
    "df.to_csv(PATH+'all_claims_with_direction_cleaned.csv',index=False)\n",
    "\n",
    "hide_toggle()"
   ]
  },
  {
   "cell_type": "markdown",
   "metadata": {},
   "source": [
    "## Read in Dataset"
   ]
  },
  {
   "cell_type": "code",
   "execution_count": 415,
   "metadata": {},
   "outputs": [
    {
     "name": "stdout",
     "output_type": "stream",
     "text": [
      "57380\n",
      "57378\n",
      "[nltk_data] Downloading package stopwords to\n",
      "[nltk_data]     /Users/ssaeed/nltk_data...\n",
      "[nltk_data]   Package stopwords is already up-to-date!\n",
      "[nltk_data] Downloading package wordnet to /Users/ssaeed/nltk_data...\n",
      "[nltk_data]   Package wordnet is already up-to-date!\n",
      "724\n",
      "57378\n"
     ]
    },
    {
     "data": {
      "text/html": [
       "\n",
       "        <script>\n",
       "            function code_toggle_11370086479779964266() {\n",
       "                $('div.cell.code_cell.rendered.selected').find('div.input').toggle();\n",
       "            }\n",
       "\n",
       "            \n",
       "        </script>\n",
       "\n",
       "        <a href=\"javascript:code_toggle_11370086479779964266()\">Toggle show/hide</a>\n",
       "    "
      ],
      "text/plain": [
       "<IPython.core.display.HTML object>"
      ]
     },
     "execution_count": 415,
     "metadata": {},
     "output_type": "execute_result"
    }
   ],
   "source": [
    "a=pd.read_csv(PATH+'all_claims_with_direction_cleaned.csv')\n",
    "\n",
    "print(len(a))\n",
    "\n",
    "a=a.dropna()\n",
    "\n",
    "print(len(a))\n",
    "\n",
    "nltk.download('stopwords')\n",
    "nltk.download('wordnet')\n",
    "\n",
    "claim=a['claim_text']\n",
    "label=a['Ineligibility']\n",
    "\n",
    "print(sum(label))\n",
    "print(len(label))\n",
    "\n",
    "hide_toggle()"
   ]
  },
  {
   "cell_type": "markdown",
   "metadata": {},
   "source": [
    "## Stemming and Lemmatization "
   ]
  },
  {
   "cell_type": "code",
   "execution_count": 403,
   "metadata": {},
   "outputs": [
    {
     "data": {
      "text/html": [
       "\n",
       "        <script>\n",
       "            function code_toggle_8271237039954725680() {\n",
       "                $('div.cell.code_cell.rendered.selected').find('div.input').toggle();\n",
       "            }\n",
       "\n",
       "            \n",
       "        </script>\n",
       "\n",
       "        <a href=\"javascript:code_toggle_8271237039954725680()\">Toggle show/hide</a>\n",
       "    "
      ],
      "text/plain": [
       "<IPython.core.display.HTML object>"
      ]
     },
     "execution_count": 403,
     "metadata": {},
     "output_type": "execute_result"
    }
   ],
   "source": [
    "#Stemming and Lemmatization\n",
    "\n",
    "stemmer = SnowballStemmer(\"english\", ignore_stopwords=True)\n",
    "lemmer=LancasterStemmer()\n",
    "lemma=WordNetLemmatizer()\n",
    "\n",
    "\n",
    "class LemmaCountVectorizer(CountVectorizer):\n",
    "    def build_analyzer(self):\n",
    "        analyzer = super(LemmaCountVectorizer, self).build_analyzer()\n",
    "        return lambda doc: ([lemma.lemmatize(w) for w in analyzer(doc)]) \n",
    "\n",
    "class StemmedCountVectorizer(CountVectorizer):\n",
    "    def build_analyzer(self):\n",
    "        analyzer = super(StemmedCountVectorizer, self).build_analyzer()\n",
    "        return lambda doc: ([stemmer.stem(w) for w in analyzer(doc)])\n",
    "\n",
    "SCV = StemmedCountVectorizer(ngram_range=(1,2),stop_words='english',max_df=0.2,min_df=2)\n",
    "\n",
    "LCV=LemmaCountVectorizer(stop_words='english',ngram_range=(1,2),max_features=4000,max_df=0.2,min_df=3)\n",
    "\n",
    "hide_toggle()"
   ]
  },
  {
   "cell_type": "markdown",
   "metadata": {},
   "source": [
    "### SMOTE ADASYN (adaptive synthetic minority oversampling)"
   ]
  },
  {
   "cell_type": "code",
   "execution_count": 404,
   "metadata": {},
   "outputs": [],
   "source": [
    "#DOWNSAMPLE \n",
    "\n",
    "LCV=LemmaCountVectorizer(stop_words='english',ngram_range=(1,2),max_features=5000,max_df=0.3,min_df=3)\n",
    "\n",
    "transformer = Pipeline([('vectorizer', LCV), ('tfidf', TfidfTransformer(norm='l2',use_idf=True,smooth_idf=True))])\n",
    "\n",
    "claim=transformer.fit_transform(claim)"
   ]
  },
  {
   "cell_type": "code",
   "execution_count": 405,
   "metadata": {},
   "outputs": [
    {
     "name": "stdout",
     "output_type": "stream",
     "text": [
      "56656\n",
      "CPU times: user 24.2 s, sys: 1.01 s, total: 25.2 s\n",
      "Wall time: 28.7 s\n"
     ]
    }
   ],
   "source": [
    "%%time\n",
    "# New module not used before \n",
    "from imblearn.over_sampling import SMOTE,ADASYN\n",
    "\n",
    "sm = ADASYN(random_state=42)\n",
    "claims, label = sm.fit_resample(claim, label)\n",
    "\n",
    "print(sum(label))"
   ]
  },
  {
   "cell_type": "markdown",
   "metadata": {},
   "source": [
    "## Split Training/Test"
   ]
  },
  {
   "cell_type": "code",
   "execution_count": 406,
   "metadata": {},
   "outputs": [
    {
     "name": "stdout",
     "output_type": "stream",
     "text": [
      "Training set has 90648 samples.\n",
      "Testing set has 22662 samples.\n"
     ]
    },
    {
     "data": {
      "text/html": [
       "\n",
       "        <script>\n",
       "            function code_toggle_15273315105281716774() {\n",
       "                $('div.cell.code_cell.rendered.selected').find('div.input').toggle();\n",
       "            }\n",
       "\n",
       "            \n",
       "        </script>\n",
       "\n",
       "        <a href=\"javascript:code_toggle_15273315105281716774()\">Toggle show/hide</a>\n",
       "    "
      ],
      "text/plain": [
       "<IPython.core.display.HTML object>"
      ]
     },
     "execution_count": 406,
     "metadata": {},
     "output_type": "execute_result"
    }
   ],
   "source": [
    "# Import train_test_split\n",
    "from sklearn.model_selection import train_test_split\n",
    "\n",
    "# Split the 'features' and 'income' data into training and testing sets\n",
    "claim_tr, claim_tst, label_tr, label_tst = train_test_split(claims, label, test_size = 0.2, random_state = 0)\n",
    "\n",
    "# Show the results of the split\n",
    "print (\"Training set has {} samples.\".format(claim_tr.shape[0]))\n",
    "print (\"Testing set has {} samples.\".format(claim_tst.shape[0]))\n",
    "\n",
    "hide_toggle()"
   ]
  },
  {
   "cell_type": "markdown",
   "metadata": {},
   "source": [
    "## Running the Algorithm + Performance"
   ]
  },
  {
   "cell_type": "code",
   "execution_count": 407,
   "metadata": {},
   "outputs": [
    {
     "name": "stdout",
     "output_type": "stream",
     "text": [
      "F1: 0.927\n",
      "Precision: 0.881\n",
      "Recall: 0.978\n"
     ]
    },
    {
     "data": {
      "text/html": [
       "\n",
       "        <script>\n",
       "            function code_toggle_23181506679980269() {\n",
       "                $('div.cell.code_cell.rendered.selected').find('div.input').toggle();\n",
       "            }\n",
       "\n",
       "            \n",
       "        </script>\n",
       "\n",
       "        <a href=\"javascript:code_toggle_23181506679980269()\">Toggle show/hide</a>\n",
       "    "
      ],
      "text/plain": [
       "<IPython.core.display.HTML object>"
      ]
     },
     "execution_count": 407,
     "metadata": {},
     "output_type": "execute_result"
    }
   ],
   "source": [
    "text_ensemble_lemmatized = LogisticRegression(C=0.01,penalty='l2',class_weight={0:1,1:1})\n",
    "\n",
    "\n",
    "# # create the ensemble model\n",
    "from time import time\n",
    "\n",
    "start=time()\n",
    "\n",
    "text_ensemble_lemmatized.fit(claim_tr,label_tr)\n",
    "predicted=text_ensemble_lemmatized.predict(claim_tst)\n",
    "predicted3=text_ensemble_lemmatized.predict_proba(claim)[:,1]\n",
    "predicted4=text_ensemble_lemmatized.predict_proba(claim_tst)[:,1]\n",
    "\n",
    "from sklearn.metrics import f1_score,precision_score,recall_score\n",
    "\n",
    "print(\"F1:\",round(f1_score(label_tst,predicted,average='binary'),3))\n",
    "print(\"Precision:\",round(precision_score(label_tst,predicted,average='binary'),3))\n",
    "print(\"Recall:\",round(recall_score(label_tst,predicted,average='binary'),3))\n",
    "\n",
    "# print(time()-start)\n",
    "# print(sum(predicted3<0.1))\n",
    "\n",
    "hide_toggle()"
   ]
  },
  {
   "cell_type": "markdown",
   "metadata": {},
   "source": [
    "## Model Outputs"
   ]
  },
  {
   "cell_type": "code",
   "execution_count": 411,
   "metadata": {},
   "outputs": [
    {
     "name": "stdout",
     "output_type": "stream",
     "text": [
      "Percentiles: \n",
      "\n",
      "25th: 0.18\n",
      "Median: 0.24\n",
      "75th: 0.39\n",
      "95th: 0.64\n"
     ]
    },
    {
     "data": {
      "image/png": "[encoded data removed]",
      "text/plain": [
       "<Figure size 720x720 with 1 Axes>"
      ]
     },
     "metadata": {},
     "output_type": "display_data"
    },
    {
     "data": {
      "image/png": "[encoded data removed]",
      "text/plain": [
       "<Figure size 432x288 with 1 Axes>"
      ]
     },
     "metadata": {},
     "output_type": "display_data"
    },
    {
     "name": "stdout",
     "output_type": "stream",
     "text": [
      "ROC SCORE= 0.969\n",
      "\n",
      "(0.0, 0.05]     0.0%\n",
      "(0.05, 0.1]     0.7%\n",
      "(0.1, 0.15]    12.1%\n",
      "(0.15, 0.2]    23.8%\n",
      "(0.2, 0.25]    16.8%\n",
      "(0.25, 0.3]     9.2%\n",
      "(0.3, 0.35]     7.1%\n",
      "(0.35, 0.4]     6.1%\n",
      "(0.4, 0.45]     5.6%\n",
      "(0.45, 0.5]     4.5%\n",
      "(0.5, 0.55]     3.8%\n",
      "(0.55, 0.6]     3.1%\n",
      "(0.6, 0.65]     2.5%\n",
      "(0.65, 0.7]     2.0%\n",
      "(0.7, 0.75]     1.3%\n",
      "(0.75, 0.8]     0.8%\n",
      "(0.8, 0.85]     0.4%\n",
      "(0.85, 0.9]     0.1%\n",
      "(0.9, 0.95]     0.0%\n",
      "(0.95, 1.0]     0.0%\n",
      "dtype: object\n"
     ]
    },
    {
     "data": {
      "text/html": [
       "\n",
       "        <script>\n",
       "            function code_toggle_9764057813693116739() {\n",
       "                $('div.cell.code_cell.rendered.selected').find('div.input').toggle();\n",
       "            }\n",
       "\n",
       "            \n",
       "        </script>\n",
       "\n",
       "        <a href=\"javascript:code_toggle_9764057813693116739()\">Toggle show/hide</a>\n",
       "    "
      ],
      "text/plain": [
       "<IPython.core.display.HTML object>"
      ]
     },
     "execution_count": 411,
     "metadata": {},
     "output_type": "execute_result"
    }
   ],
   "source": [
    "predicted3=pd.Series(predicted3)\n",
    "\n",
    "fig,ax=plt.subplots()\n",
    "predicted3.hist(ax=ax,bins=50,figsize=(10,10))\n",
    "\n",
    "plt.xticks([0.05,0.1,0.15,0.2,0.25,0.3,0.35,0.4,.45,0.5,0.55,0.6,0.65,.7,0.75,0.8,0.85,0.9,0.95,0.99])\n",
    "plt.title('Alice Scoring Distribution', fontsize=16)\n",
    "\n",
    "predicted3=pd.Series(predicted3)\n",
    "\n",
    "art=predicted3.groupby(pd.cut(predicted3, np.linspace(0,1,21))).count()#/predicted3.count()\n",
    "\n",
    "print(\"Percentiles: \\n\" )\n",
    "\n",
    "print(\"25th: {}\".format(round(predicted3.quantile(0.25),2)))\n",
    "print(\"Median: {}\".format(round(predicted3.quantile(0.50),2)))\n",
    "print(\"75th: {}\".format(round(predicted3.quantile(0.75),2)))\n",
    "print(\"95th: {}\".format(round(predicted3.quantile(0.95),2)))\n",
    "\n",
    "#art.to_csv('abc.csv')\n",
    "\n",
    "from sklearn.metrics import roc_curve,auc\n",
    "\n",
    "# Compute ROC curve and ROC area for each class\n",
    "fpr = dict()\n",
    "tpr = dict()\n",
    "roc_auc = dict()\n",
    "fpr,tpr,_=roc_curve(label_tst, predicted4)\n",
    "\n",
    "from matplotlib import pyplot as plt \n",
    "\n",
    "plt.figure()\n",
    "#plt.plot([0,1],[1,0],'k--')\n",
    "plt.plot(fpr,tpr,label='roc')\n",
    "plt.ylabel('True positive rate')\n",
    "plt.xlabel('False positive rate')\n",
    "plt.title('ROC curve')\n",
    "plt.legend(loc='best')\n",
    "plt.show()\n",
    "\n",
    "from sklearn.metrics import roc_auc_score\n",
    "\n",
    "print(\"ROC SCORE=\",round(roc_auc_score(label_tst,predicted4),3))\n",
    "\n",
    "print()\n",
    "\n",
    "art=predicted3.groupby(pd.cut(predicted3, np.linspace(0,1,21))).count()/predicted3.count()\n",
    "print(art.map(lambda n: '{:,.1%}'.format(n)))\n",
    "\n",
    "\n",
    "hide_toggle()"
   ]
  },
  {
   "cell_type": "markdown",
   "metadata": {},
   "source": [
    "## Performance"
   ]
  },
  {
   "cell_type": "code",
   "execution_count": 414,
   "metadata": {},
   "outputs": [
    {
     "name": "stdout",
     "output_type": "stream",
     "text": [
      "Percentiles: \n",
      "\n",
      "25th: 0.23\n",
      "Median: 0.58\n",
      "75th: 0.72\n",
      "95th: 0.82\n"
     ]
    },
    {
     "data": {
      "image/png": "[encoded data removed]",
      "text/plain": [
       "<Figure size 720x720 with 1 Axes>"
      ]
     },
     "metadata": {},
     "output_type": "display_data"
    },
    {
     "data": {
      "image/png": "[encoded data removed]",
      "text/plain": [
       "<Figure size 432x288 with 1 Axes>"
      ]
     },
     "metadata": {},
     "output_type": "display_data"
    },
    {
     "name": "stdout",
     "output_type": "stream",
     "text": [
      "ROC SCORE= 0.969\n",
      "\n",
      "(0.0, 0.05]     0.0%\n",
      "(0.05, 0.1]     0.3%\n",
      "(0.1, 0.15]     6.2%\n",
      "(0.15, 0.2]    12.2%\n",
      "(0.2, 0.25]     8.5%\n",
      "(0.25, 0.3]     4.5%\n",
      "(0.3, 0.35]     3.5%\n",
      "(0.35, 0.4]     3.2%\n",
      "(0.4, 0.45]     2.9%\n",
      "(0.45, 0.5]     2.8%\n",
      "(0.5, 0.55]     3.2%\n",
      "(0.55, 0.6]     5.6%\n",
      "(0.6, 0.65]     7.5%\n",
      "(0.65, 0.7]     8.6%\n",
      "(0.7, 0.75]    11.9%\n",
      "(0.75, 0.8]    10.7%\n",
      "(0.8, 0.85]     6.5%\n",
      "(0.85, 0.9]     1.8%\n",
      "(0.9, 0.95]     0.1%\n",
      "(0.95, 1.0]     0.0%\n",
      "dtype: object\n"
     ]
    },
    {
     "data": {
      "text/html": [
       "\n",
       "        <script>\n",
       "            function code_toggle_9667789148817483509() {\n",
       "                $('div.cell.code_cell.rendered.selected').find('div.input').toggle();\n",
       "            }\n",
       "\n",
       "            \n",
       "        </script>\n",
       "\n",
       "        <a href=\"javascript:code_toggle_9667789148817483509()\">Toggle show/hide</a>\n",
       "    "
      ],
      "text/plain": [
       "<IPython.core.display.HTML object>"
      ]
     },
     "execution_count": 414,
     "metadata": {},
     "output_type": "execute_result"
    }
   ],
   "source": [
    "predicted4=pd.Series(predicted4)\n",
    "\n",
    "\n",
    "from matplotlib import pyplot as plt \n",
    "from pylab import xticks\n",
    "import numpy as np\n",
    "import matplotlib.ticker as ticker\n",
    "\n",
    "fig,ax=plt.subplots()\n",
    "predicted4.hist(ax=ax,bins=50,figsize=(10,10))\n",
    "\n",
    "plt.xticks([0.05,0.1,0.15,0.2,0.25,0.3,0.35,0.4,.45,0.5,0.55,0.6,0.65,.7,0.75,0.8,0.85,0.9,0.95])\n",
    "plt.title('Alice Scoring Distribution', fontsize=16)\n",
    "\n",
    "predicted4=pd.Series(predicted4)\n",
    "\n",
    "art=predicted4.groupby(pd.cut(predicted4, np.linspace(0,1,21))).count()#/predicted3.count()\n",
    "\n",
    "print(\"Percentiles: \\n\" )\n",
    "\n",
    "print(\"25th: {}\".format(round(predicted4.quantile(0.25),2)))\n",
    "print(\"Median: {}\".format(round(predicted4.quantile(0.50),2)))\n",
    "print(\"75th: {}\".format(round(predicted4.quantile(0.75),2)))\n",
    "print(\"95th: {}\".format(round(predicted4.quantile(0.95),2)))\n",
    "\n",
    "#art.to_csv('abc.csv')\n",
    "\n",
    "from sklearn.metrics import roc_curve,auc\n",
    "\n",
    "# Compute ROC curve and ROC area for each class\n",
    "fpr = dict()\n",
    "tpr = dict()\n",
    "roc_auc = dict()\n",
    "fpr,tpr,_=roc_curve(label_tst, predicted4)\n",
    "\n",
    "from matplotlib import pyplot as plt \n",
    "\n",
    "plt.figure()\n",
    "#plt.plot([0,1],[1,0],'k--')\n",
    "plt.plot(fpr,tpr,label='roc')\n",
    "plt.ylabel('True positive rate')\n",
    "plt.xlabel('False positive rate')\n",
    "plt.title('ROC curve')\n",
    "plt.legend(loc='best')\n",
    "plt.show()\n",
    "\n",
    "from sklearn.metrics import roc_auc_score\n",
    "\n",
    "print(\"ROC SCORE=\",round(roc_auc_score(label_tst,predicted4),3))\n",
    "\n",
    "print()\n",
    "\n",
    "art=predicted4.groupby(pd.cut(predicted4, np.linspace(0,1,21))).count()/predicted4.count()\n",
    "print(art.map(lambda n: '{:,.1%}'.format(n)))\n",
    "\n",
    "\n",
    "hide_toggle()"
   ]
  },
  {
   "cell_type": "markdown",
   "metadata": {},
   "source": [
    "## Results on USAA Portfolio"
   ]
  },
  {
   "cell_type": "code",
   "execution_count": 410,
   "metadata": {},
   "outputs": [],
   "source": [
    "a=pd.read_csv('/Users/ssaeed/Documents/USAA.csv')\n",
    "\n",
    "claim=a['claim_text']\n",
    "\n",
    "claim_transform=transformer.transform(claim)\n",
    "\n",
    "# TfidfTransformer(norm='l2',use_idf=True,smooth_idf=True).transform(claim)\n",
    "\n",
    "predicted5=text_ensemble_lemmatized.predict_proba(claim_transform)[:,1]\n",
    "\n",
    "\n",
    "e=[]\n",
    "\n",
    "for i in range(len(predicted5)):\n",
    "    \n",
    "    e.append(round(predicted5[i],3))\n",
    "\n",
    "\n",
    "a['alice_score_model227_smote'] =e\n",
    "\n",
    "# cols=[7,8]\n",
    "# a=a.drop(a.columns[cols],axis=1)\n",
    "\n",
    "a.to_csv('/Users/ssaeed/Documents/USAA.csv')\n",
    "\n",
    "\n"
   ]
  },
  {
   "cell_type": "code",
   "execution_count": null,
   "metadata": {},
   "outputs": [],
   "source": []
  },
  {
   "cell_type": "code",
   "execution_count": null,
   "metadata": {},
   "outputs": [],
   "source": []
  },
  {
   "cell_type": "code",
   "execution_count": null,
   "metadata": {},
   "outputs": [],
   "source": []
  }
 ],
 "metadata": {
  "kernelspec": {
   "display_name": "Python 3",
   "language": "python",
   "name": "python3"
  },
  "language_info": {
   "codemirror_mode": {
    "name": "ipython",
    "version": 3
   },
   "file_extension": ".py",
   "mimetype": "text/x-python",
   "name": "python",
   "nbconvert_exporter": "python",
   "pygments_lexer": "ipython3",
   "version": "3.6.5"
  }
 },
 "nbformat": 4,
 "nbformat_minor": 2
}
