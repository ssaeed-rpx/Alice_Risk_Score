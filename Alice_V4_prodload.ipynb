{
 "cells": [
  {
   "cell_type": "markdown",
   "metadata": {},
   "source": [
    "## Hiding Function+ Import Statements + PATH definition"
   ]
  },
  {
   "cell_type": "code",
   "execution_count": 2,
   "metadata": {},
   "outputs": [
    {
     "data": {
      "text/html": [
       "\n",
       "        <script>\n",
       "            function code_toggle_15501754524082263878() {\n",
       "                $('div.cell.code_cell.rendered.selected').find('div.input').toggle();\n",
       "            }\n",
       "\n",
       "            \n",
       "        </script>\n",
       "\n",
       "        <a href=\"javascript:code_toggle_15501754524082263878()\">Toggle show/hide</a>\n",
       "    "
      ],
      "text/plain": [
       "<IPython.core.display.HTML object>"
      ]
     },
     "execution_count": 2,
     "metadata": {},
     "output_type": "execute_result"
    }
   ],
   "source": [
    "#import nltk # please download wordnet and stopwords if not already downloaded \n",
    "\n",
    "from sklearn import preprocessing\n",
    "le = preprocessing.LabelEncoder()\n",
    "\n",
    "from matplotlib import pyplot as plt \n",
    "from pylab import xticks\n",
    "import numpy as np\n",
    "import matplotlib.ticker as ticker\n",
    "from sklearn.metrics import f1_score,precision_score,recall_score,roc_auc_score\n",
    "import pickle\n",
    "import time\n",
    "\n",
    "import nltk # please download wordnet and stopwords if not already downloaded \n",
    "\n",
    "import pandas as pd\n",
    "import numpy as np\n",
    "\n",
    "from nltk.corpus import wordnet\n",
    "from nltk.corpus import stopwords\n",
    "\n",
    "from nltk.stem.snowball import SnowballStemmer\n",
    "from nltk.stem.wordnet import WordNetLemmatizer\n",
    "from nltk.stem.lancaster import LancasterStemmer\n",
    "\n",
    "\n",
    "from sklearn.model_selection import train_test_split\n",
    "from sklearn.model_selection import cross_val_score\n",
    "\n",
    "from sklearn.feature_extraction.text import CountVectorizer\n",
    "from sklearn.feature_extraction.text import TfidfTransformer\n",
    "from sklearn.decomposition import LatentDirichletAllocation\n",
    "from sklearn.decomposition import NMF\n",
    "\n",
    "from sklearn.naive_bayes import MultinomialNB, BernoulliNB\n",
    "from sklearn.linear_model import LogisticRegression\n",
    "from sklearn.linear_model import SGDClassifier\n",
    "from sklearn.neighbors import KNeighborsClassifier\n",
    "from sklearn.ensemble import ExtraTreesClassifier\n",
    "from sklearn.ensemble import RandomForestClassifier\n",
    "from sklearn.neural_network import MLPClassifier\n",
    "from sklearn.svm import LinearSVC\n",
    "from sklearn.svm import SVC\n",
    "from sklearn.decomposition import NMF\n",
    "from sklearn.model_selection import GridSearchCV\n",
    "from sklearn.pipeline import Pipeline\n",
    "\n",
    "from matplotlib import pyplot as plt \n",
    "from pylab import xticks\n",
    "import numpy as np\n",
    "import matplotlib.ticker as ticker\n",
    "from sklearn.metrics import f1_score,precision_score,recall_score\n",
    "\n",
    "hide_toggle()"
   ]
  },
  {
   "cell_type": "markdown",
   "metadata": {},
   "source": [
    "# Data Preprocessing for Negative-Positive Set-Segregation"
   ]
  },
  {
   "cell_type": "markdown",
   "metadata": {},
   "source": [
    "## Regex for Cleaning"
   ]
  },
  {
   "cell_type": "code",
   "execution_count": 11,
   "metadata": {},
   "outputs": [
    {
     "data": {
      "text/html": [
       "\n",
       "        <script>\n",
       "            function code_toggle_2864471590422719674() {\n",
       "                $('div.cell.code_cell.rendered.selected').find('div.input').toggle();\n",
       "            }\n",
       "\n",
       "            \n",
       "        </script>\n",
       "\n",
       "        <a href=\"javascript:code_toggle_2864471590422719674()\">Toggle show/hide</a>\n",
       "    "
      ],
      "text/plain": [
       "<IPython.core.display.HTML object>"
      ]
     },
     "execution_count": 11,
     "metadata": {},
     "output_type": "execute_result"
    }
   ],
   "source": [
    "# #Using regex to clean the incoming corpus \n",
    "\n",
    "df=pd.read_csv('all_claims_with_direction.csv',index_col=0)\n",
    "\n",
    "\n",
    "# df=pd.read_csv('/Users/ssaeed/Documents/all_claims_edited_0204.csv',encoding='latin1')\n",
    "\n",
    "import re\n",
    "\n",
    "def split_it(line):\n",
    "    \n",
    "    line2=re.sub('\\b\\w{1,3}\\b|<.*?>|((\\d+)[\\.])|\\((.+?)\\)|[0-9]+',\"\",str(line))\n",
    "    \n",
    "    return line2\n",
    "\n",
    "df['claim_text']=df['claim_text'].apply(split_it)\n",
    "\n",
    "df.drop_duplicates(subset=None, keep='first', inplace=False)\n",
    "\n",
    "\n",
    "\n",
    "df.describe\n",
    "\n",
    "df.to_csv('all_claims_with_direction.csv',index=False)\n",
    "\n",
    "hide_toggle()"
   ]
  },
  {
   "cell_type": "markdown",
   "metadata": {},
   "source": [
    "## Read in Dataset"
   ]
  },
  {
   "cell_type": "markdown",
   "metadata": {},
   "source": [
    "## Stemming and Lemmatization "
   ]
  },
  {
   "cell_type": "code",
   "execution_count": 12,
   "metadata": {},
   "outputs": [
    {
     "data": {
      "text/html": [
       "\n",
       "        <script>\n",
       "            function code_toggle_1163326861983969546() {\n",
       "                $('div.cell.code_cell.rendered.selected').find('div.input').toggle();\n",
       "            }\n",
       "\n",
       "            \n",
       "        </script>\n",
       "\n",
       "        <a href=\"javascript:code_toggle_1163326861983969546()\">Toggle show/hide</a>\n",
       "    "
      ],
      "text/plain": [
       "<IPython.core.display.HTML object>"
      ]
     },
     "execution_count": 12,
     "metadata": {},
     "output_type": "execute_result"
    }
   ],
   "source": [
    "#Stemming and Lemmatization\n",
    "\n",
    "stemmer = SnowballStemmer(\"english\", ignore_stopwords=True)\n",
    "lemmer=LancasterStemmer()\n",
    "lemma=WordNetLemmatizer()\n",
    "\n",
    "\n",
    "class LemmaCountVectorizer(CountVectorizer):\n",
    "    def build_analyzer(self):\n",
    "        analyzer = super(LemmaCountVectorizer, self).build_analyzer()\n",
    "        return lambda doc: ([lemma.lemmatize(w) for w in analyzer(doc)]) \n",
    "\n",
    "class StemmedCountVectorizer(CountVectorizer):\n",
    "    def build_analyzer(self):\n",
    "        analyzer = super(StemmedCountVectorizer, self).build_analyzer()\n",
    "        return lambda doc: ([stemmer.stem(w) for w in analyzer(doc)])\n",
    "\n",
    "SCV = StemmedCountVectorizer(ngram_range=(1,2),stop_words='english',max_df=0.2,min_df=2)\n",
    "\n",
    "LCV=LemmaCountVectorizer(stop_words='english',ngram_range=(1,2),max_features=4000,max_df=0.2,min_df=3)\n",
    "\n",
    "hide_toggle()"
   ]
  },
  {
   "cell_type": "code",
   "execution_count": 14,
   "metadata": {},
   "outputs": [
    {
     "data": {
      "text/html": [
       "\n",
       "        <script>\n",
       "            function code_toggle_15435967726056347617() {\n",
       "                $('div.cell.code_cell.rendered.selected').find('div.input').toggle();\n",
       "            }\n",
       "\n",
       "            \n",
       "        </script>\n",
       "\n",
       "        <a href=\"javascript:code_toggle_15435967726056347617()\">Toggle show/hide</a>\n",
       "    "
      ],
      "text/plain": [
       "<IPython.core.display.HTML object>"
      ]
     },
     "execution_count": 14,
     "metadata": {},
     "output_type": "execute_result"
    }
   ],
   "source": [
    "a=pd.read_csv('all_claims_with_direction.csv')\n",
    "\n",
    "#print(len(a))\n",
    "\n",
    "a=a.dropna()\n",
    "\n",
    "#print(len(a))\n",
    "\n",
    "#nltk.download('stopwords')\n",
    "#nltk.download('wordnet')\n",
    "\n",
    "claims=a['claim_text']\n",
    "label=a['Ineligibility']\n",
    "label2=a['Ineligibility']\n",
    "\n",
    "#print(sum(label))\n",
    "#print(len(label))\n",
    "\n",
    "hide_toggle()"
   ]
  },
  {
   "cell_type": "markdown",
   "metadata": {},
   "source": [
    "### SMOTE ADASYN (adaptive synthetic minority oversampling)"
   ]
  },
  {
   "cell_type": "code",
   "execution_count": 15,
   "metadata": {},
   "outputs": [
    {
     "name": "stdout",
     "output_type": "stream",
     "text": [
      "Training set has 45914 samples.\n",
      "Testing set has 11479 samples.\n"
     ]
    },
    {
     "data": {
      "text/html": [
       "\n",
       "        <script>\n",
       "            function code_toggle_13966655462661582199() {\n",
       "                $('div.cell.code_cell.rendered.selected').find('div.input').toggle();\n",
       "            }\n",
       "\n",
       "            \n",
       "        </script>\n",
       "\n",
       "        <a href=\"javascript:code_toggle_13966655462661582199()\">Toggle show/hide</a>\n",
       "    "
      ],
      "text/plain": [
       "<IPython.core.display.HTML object>"
      ]
     },
     "execution_count": 15,
     "metadata": {},
     "output_type": "execute_result"
    }
   ],
   "source": [
    "# Import train_test_split\n",
    "from sklearn.model_selection import train_test_split\n",
    "\n",
    "# Split the 'features' and 'income' data into training and testing sets\n",
    "#claim_tr, claim_tst, label_tr, label_tst = train_test_split(claims, labels, test_size = 0.2, random_state = 0)\n",
    "\n",
    "train,test = train_test_split(a,test_size = 0.2, random_state = 0)\n",
    "\n",
    "\n",
    "# Show the results of the split\n",
    "print (\"Training set has {} samples.\".format(train.shape[0]))\n",
    "print (\"Testing set has {} samples.\".format(test.shape[0]))\n",
    "\n",
    "hide_toggle()"
   ]
  },
  {
   "cell_type": "code",
   "execution_count": 16,
   "metadata": {},
   "outputs": [],
   "source": [
    "#Sklearn new way upsampling\n",
    "\n",
    "# from sklearn.utils import resample\n",
    "\n",
    "# eleg=a[train.Ineligibility==0]\n",
    "# ineleg=a[train.Ineligibility==1]\n",
    "\n",
    "# ineleg=resample(ineleg,replace=True,n_samples=len(eleg),random_state=12)\n",
    "# full=pd.concat([eleg,ineleg])\n",
    "\n",
    "# claims=full['claim_text']\n",
    "# labels=full['Ineligibility']"
   ]
  },
  {
   "cell_type": "code",
   "execution_count": 17,
   "metadata": {},
   "outputs": [],
   "source": [
    "#SKLEARN upsampling\n",
    "\n",
    "from sklearn.utils import resample\n",
    "\n",
    "eleg=train[train.Ineligibility==0]\n",
    "ineleg=train[train.Ineligibility==1]\n",
    "\n",
    "ineleg=resample(ineleg,replace=True,n_samples=len(eleg),random_state=12)\n",
    "\n",
    "full=pd.concat([eleg,ineleg])\n",
    "\n",
    "claim_tr=full['claim_text']\n",
    "label_tr=full['Ineligibility']"
   ]
  },
  {
   "cell_type": "code",
   "execution_count": 18,
   "metadata": {},
   "outputs": [
    {
     "data": {
      "text/plain": [
       "(45914, 2)"
      ]
     },
     "execution_count": 18,
     "metadata": {},
     "output_type": "execute_result"
    }
   ],
   "source": [
    "train.shape"
   ]
  },
  {
   "cell_type": "code",
   "execution_count": 19,
   "metadata": {
    "scrolled": true
   },
   "outputs": [],
   "source": [
    "# %%time\n",
    "# #using adasyn\n",
    "# from imblearn.over_sampling import SMOTE,ADASYN\n",
    "\n",
    "\n",
    "# claims=train['claim_text']\n",
    "# labels=train['Ineligibility']\n",
    "\n",
    "# claim2=transformer.fit_transform(claims)\n",
    "\n",
    "\n",
    "# sm = ADASYN(random_state=42)\n",
    "# claims, labels = sm.fit_resample(claim2, labels)\n",
    "\n",
    "# print(sum(labels))"
   ]
  },
  {
   "cell_type": "code",
   "execution_count": 20,
   "metadata": {},
   "outputs": [],
   "source": [
    "eleg=test[test.Ineligibility==0]\n",
    "ineleg=test[test.Ineligibility==1]\n",
    "\n",
    "eleg=resample(eleg,replace=False,n_samples=len(ineleg),random_state=12)\n",
    "\n",
    "full=pd.concat([eleg,ineleg])\n",
    "\n",
    "claim_tst=full['claim_text']\n",
    "label_tst=full['Ineligibility']"
   ]
  },
  {
   "cell_type": "markdown",
   "metadata": {},
   "source": [
    "## Split Training/Test"
   ]
  },
  {
   "cell_type": "markdown",
   "metadata": {},
   "source": [
    "## Running the Algorithm + Performance"
   ]
  },
  {
   "cell_type": "code",
   "execution_count": 21,
   "metadata": {},
   "outputs": [
    {
     "name": "stdout",
     "output_type": "stream",
     "text": [
      "\n",
      "\n",
      "8000  (1,2)\n",
      "\n",
      "('lr',LogisticRegression(C=0.03,penalty='l2',class_weight={0:1,1:1.5}))])\n",
      "\n",
      "F1: 0.81\n",
      "Precision: 0.804\n",
      "Recall: 0.815\n",
      "ROC SCORE= 0.897\n",
      "\n",
      " Percentiles: \n",
      "\n",
      "25th: 0.14\n",
      "Median: 0.24\n",
      "75th: 0.42\n",
      "95th: 0.71\n",
      "                 predicted\n",
      "label predicted           \n",
      "0     0                127\n",
      "      1                 19\n",
      "1     0                 44\n",
      "      1                102\n",
      "0.8661971830985915\n",
      "                           abs_deviation\n",
      "allan_score abs_deviation               \n",
      "1           0                         50\n",
      "            1                          1\n",
      "            2                         29\n",
      "2           1                         29\n",
      "3           0                         72\n",
      "            1                          5\n",
      "            2                         52\n",
      "                               abs_deviation\n",
      "eligibility_101 abs_deviation               \n",
      "1               0                        401\n",
      "                1                          4\n",
      "                2                         36\n",
      "3               0                       1377\n",
      "                1                         16\n",
      "                2                        298\n",
      "CPU times: user 1min 45s, sys: 532 ms, total: 1min 46s\n",
      "Wall time: 1min 45s\n"
     ]
    },
    {
     "data": {
      "image/png": "[encoded data removed]",
      "text/plain": [
       "<Figure size 720x720 with 1 Axes>"
      ]
     },
     "metadata": {},
     "output_type": "display_data"
    }
   ],
   "source": [
    "%%time\n",
    "\n",
    "ae= '''\n",
    "\n",
    "8000  (1,2)\n",
    "\n",
    "('lr',LogisticRegression(C=0.03,penalty='l2',class_weight={0:1,1:1.5}))])\n",
    "'''\n",
    "\n",
    "print(ae)\n",
    "\n",
    "LCV=LemmaCountVectorizer(stop_words='english',ngram_range=(1,2),max_df=0.2,min_df=3,max_features=8000)\n",
    "\n",
    "\n",
    "text_ensemble_lemmatized = Pipeline([('vectorizer', LCV), \n",
    "                                     ('tfidf', TfidfTransformer(norm='l2',use_idf=True,smooth_idf=True)),\n",
    "                                     ('lr',LogisticRegression(C=0.03,penalty='l2',class_weight={0:1,1:1.5}))])\n",
    "\n",
    "#text_ensemble_lemmatized = LogisticRegression(C=0.01,penalty='l2',class_weight={0:1,1:1})\n",
    "\n",
    "\n",
    "# # create the ensemble model\n",
    "from time import time\n",
    "\n",
    "start=time()\n",
    "\n",
    "text_ensemble_lemmatized.fit(claim_tr,label_tr)\n",
    "predicted=text_ensemble_lemmatized.predict(claim_tst)\n",
    "#predicted2=text_ensemble_lemmatized.predict(claim)\n",
    "predicted3=text_ensemble_lemmatized.predict_proba(claims)[:,1]\n",
    "predicted4=text_ensemble_lemmatized.predict_proba(claim_tst)[:,1]\n",
    "predicted6=text_ensemble_lemmatized.predict_proba(claim_tst)\n",
    "#predicted7=text_ensemble_lemmatized.predict_proba(claim)\n",
    "\n",
    "from sklearn.metrics import f1_score,precision_score,recall_score\n",
    "\n",
    "print(\"F1:\",round(f1_score(label_tst,predicted,average='binary'),3))\n",
    "print(\"Precision:\",round(precision_score(label_tst,predicted,average='binary'),3))\n",
    "print(\"Recall:\",round(recall_score(label_tst,predicted,average='binary'),3))\n",
    "print(\"ROC SCORE=\",round(roc_auc_score(label_tst,predicted4),3))\n",
    "\n",
    "\n",
    "# print(time()-start)\n",
    "# print(sum(predicted3<0.1))\n",
    "\n",
    "hide_toggle()\n",
    "\n",
    "predicted3=pd.Series(predicted3)\n",
    "\n",
    "fig,ax=plt.subplots()\n",
    "predicted3.hist(ax=ax,bins=10,figsize=(10,10))\n",
    "\n",
    "plt.xticks([0.05,0.1,0.15,0.2,0.25,0.3,0.35,0.4,.45,0.5,0.55,0.6,0.65,.7,0.75,0.8,0.85,0.9,0.95,0.99])\n",
    "plt.title('Alice Scoring Distribution', fontsize=16)\n",
    "\n",
    "predicted3=pd.Series(predicted3)\n",
    "\n",
    "art=predicted3.groupby(pd.cut(predicted3, np.linspace(0,1,21))).count()#/predicted3.count()\n",
    "\n",
    "print(\"\\n Percentiles: \\n\" )\n",
    "\n",
    "print(\"25th: {}\".format(round(predicted3.quantile(0.25),2)))\n",
    "print(\"Median: {}\".format(round(predicted3.quantile(0.50),2)))\n",
    "print(\"75th: {}\".format(round(predicted3.quantile(0.75),2)))\n",
    "print(\"95th: {}\".format(round(predicted3.quantile(0.95),2)))\n",
    "\n",
    "#\n",
    "#\n",
    "#\n",
    "\n",
    "qar=text_ensemble_lemmatized.predict_proba(claim_tst)\n",
    "\n",
    "qart=pd.DataFrame()\n",
    "\n",
    "qart['claim']=claim_tst\n",
    "qart['label']=label_tst\n",
    "qart['score']=qar[:,1]\n",
    "\n",
    "def g(row):\n",
    "    \n",
    "    if row['score']<0.6:\n",
    "        \n",
    "        val=0\n",
    "    \n",
    "    else:\n",
    "        val=1\n",
    "    \n",
    "    \n",
    "    return val\n",
    "\n",
    "qart['predicted']=qart.apply(g,axis=1)\n",
    "\n",
    "qart['deviation']=abs(qart['predicted']-qart['label'])\n",
    "\n",
    "print(qart.groupby(['label','predicted'])[['predicted']].count())\n",
    "\n",
    "#qart.to_csv('testing_of_test_set.csv')\n",
    "\n",
    "#\n",
    "#\n",
    "#\n",
    "\n",
    "\n",
    "a=pd.read_csv('/Users/ssaeed/Documents/alice_scoring/alice_test.csv')\n",
    "\n",
    "a['claim_text']=a['claim_text'].apply(split_it)\n",
    "\n",
    "claim=a['claim_text']\n",
    "\n",
    "#claim= transformer.transform(claim)\n",
    "\n",
    "#claim_transform=transformer.transform(claim)\n",
    "\n",
    "predicted5=text_ensemble_lemmatized.predict_proba(claim)[:,1]\n",
    "predicted4=text_ensemble_lemmatized.predict(claim)\n",
    "\n",
    "e=[]\n",
    "\n",
    "for i in range(len(predicted5)):\n",
    "    \n",
    "    e.append(round(predicted5[i],3))\n",
    "\n",
    "\n",
    "a['alice_score_v4'] = e\n",
    "a['alice_prediction']=predicted4\n",
    "\n",
    "print(predicted4.sum()/float(a.shape[0]))\n",
    "\n",
    "# cols=[7,8]\n",
    "# a=a.drop(a.columns[cols],axis=1)\n",
    "\n",
    "#a.to_csv('/Users/ssaeed/Documents/alice_scoring/alice_test_nonsmote.csv')\n",
    "\n",
    "#\n",
    "#\n",
    "#\n",
    "\n",
    "from sklearn.feature_extraction.text import TfidfVectorizer\n",
    "\n",
    "a=pd.read_csv('/Users/ssaeed/Documents/alice_scoring/allan_usaa.csv')\n",
    "\n",
    "a['claim_text']=a['claim_text'].apply(split_it)\n",
    "\n",
    "claim=a['claim_text']\n",
    "\n",
    "#claim= transformer.transform(claim)\n",
    "\n",
    "#claim_transform=transformer.transform(claim)\n",
    "\n",
    "predicted5=text_ensemble_lemmatized.predict_proba(claim)[:,1]\n",
    "\n",
    "\n",
    "e=[]\n",
    "\n",
    "for i in range(len(predicted5)):\n",
    "    \n",
    "    e.append(round(predicted5[i],3))\n",
    "\n",
    "\n",
    "\n",
    "a['alice_score_v4'] = e\n",
    "\n",
    "# cols=[7,8]\n",
    "# a=a.drop(a.columns[cols],axis=1)\n",
    "\n",
    "def f(row):\n",
    "    \n",
    "    if row['alice_score_v4']<0.60:\n",
    "        val=3\n",
    "    \n",
    "    elif row['alice_score_v4']>0.60 and row['alice_score_v4']<0.61 :\n",
    "        val=2\n",
    "\n",
    "    else:\n",
    "        val=1\n",
    "    \n",
    "    \n",
    "    return val \n",
    "\n",
    "a['v4_rating']=a.apply(f,axis=1)\n",
    "\n",
    "def g(row):\n",
    "    \n",
    "    return abs(row['allan_score']-row['v4_rating'])\n",
    "\n",
    "a['abs_deviation']=a.apply(g,axis=1)\n",
    "\n",
    "# cols=[7,8]\n",
    "# a=a.drop(a.columns[cols],axis=1)\n",
    "\n",
    "print(a.groupby(['allan_score','abs_deviation'])[['abs_deviation']].count())\n",
    "\n",
    "#\n",
    "#\n",
    "#\n",
    "#\n",
    "\n",
    "a=pd.read_csv('/Users/ssaeed/Documents/alice_scoring/star_ratings.csv')\n",
    "\n",
    "a['claim_text']=a['claim_text'].apply(split_it)\n",
    "\n",
    "claim=a['claim_text']\n",
    "\n",
    "#claim= transformer.transform(claim)\n",
    "\n",
    "#claim_transform=transformer.transform(claim)\n",
    "\n",
    "predicted5=text_ensemble_lemmatized.predict_proba(claim)[:,1]\n",
    "\n",
    "\n",
    "e=[]\n",
    "\n",
    "for i in range(len(predicted5)):\n",
    "    \n",
    "    e.append(round(predicted5[i],3))\n",
    "\n",
    "\n",
    "a['alice_score_v4'] = e\n",
    "\n",
    "# cols=[7,8]\n",
    "# a=a.drop(a.columns[cols],axis=1)\n",
    "\n",
    "def f(row):\n",
    "    \n",
    "    if row['alice_score_v4']<0.6:\n",
    "        val=3\n",
    "    \n",
    "    elif row['alice_score_v4']>0.6 and row['alice_score_v4']<0.61 :\n",
    "        val=2\n",
    "\n",
    "    else:\n",
    "        val=1\n",
    "    \n",
    "    \n",
    "    return val \n",
    "\n",
    "a['v3_rating']=a.apply(f,axis=1)\n",
    "\n",
    "def g(row):\n",
    "    \n",
    "    return abs(row['eligibility_101']-row['v3_rating'])\n",
    "\n",
    "a['abs_deviation']=a.apply(g,axis=1)\n",
    "\n",
    "\n",
    "print(a.groupby(['eligibility_101','abs_deviation'])[['abs_deviation']].count())\n",
    "\n",
    "hide_toggle()"
   ]
  },
  {
   "cell_type": "code",
   "execution_count": 24,
   "metadata": {},
   "outputs": [],
   "source": [
    "import joblib\n",
    "\n",
    "with open('alice_model_v4.joblib', 'wb') as f:\n",
    "    joblib.dump(text_ensemble_lemmatized, f)"
   ]
  }
 ],
 "metadata": {
  "kernelspec": {
   "display_name": "Python 3",
   "language": "python",
   "name": "python3"
  },
  "language_info": {
   "codemirror_mode": {
    "name": "ipython",
    "version": 3
   },
   "file_extension": ".py",
   "mimetype": "text/x-python",
   "name": "python",
   "nbconvert_exporter": "python",
   "pygments_lexer": "ipython3",
   "version": "3.6.5"
  }
 },
 "nbformat": 4,
 "nbformat_minor": 2
}
